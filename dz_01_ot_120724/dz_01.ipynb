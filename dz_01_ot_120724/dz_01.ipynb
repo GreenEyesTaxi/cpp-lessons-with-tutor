{
 "cells": [
  {
   "cell_type": "markdown",
   "metadata": {},
   "source": [
    "### Исходный код:\n",
    "\n",
    "```cpp\n",
    "#include <iostream>\n",
    "#include <string>\n",
    "\n",
    "int main() {\n",
    "    int x = 4;\n",
    "    int y = 5;\n",
    "\n",
    "    std::cout << (x + y) * (x - y) << \"\\n\";\n",
    "\n",
    "    if (x == y) {\n",
    "        std::cout << \"equal\" << \"\\n\";\n",
    "    } \n",
    "    else {\n",
    "        std::cout << \"not equal\" << \"\\n\";\n",
    "    }\n",
    "\n",
    "    std::string xs = \"abc\";\n",
    "    std::string ys = \"def\";\n",
    "\n",
    "    if (xs < ys) { \n",
    "        std::cout << \"less\" << \"\\n\";\n",
    "    } else {\n",
    "        std::cout << \"not less\" << \"\\n\";\n",
    "    }\n",
    "\n",
    "    return 0;\n",
    "}\n",
    "```\n"
   ]
  },
  {
   "cell_type": "markdown",
   "metadata": {},
   "source": [
    "![дисаммблированные код 1](/home/polina/MEPHI/cpp-lessons-with-tutor/dz_01_ot_120724/disanblr1.png)"
   ]
  },
  {
   "cell_type": "markdown",
   "metadata": {},
   "source": [
    "![дисаммблированные код 2](/home/polina/MEPHI/cpp-lessons-with-tutor/dz_01_ot_120724/disanblr2.png)"
   ]
  },
  {
   "cell_type": "markdown",
   "metadata": {},
   "source": [
    "![дисаммблированные код 3](/home/polina/MEPHI/cpp-lessons-with-tutor/dz_01_ot_120724/disanblr3.png)"
   ]
  },
  {
   "cell_type": "markdown",
   "metadata": {},
   "source": [
    "![дисаммблированные код 4](/home/polina/MEPHI/cpp-lessons-with-tutor/dz_01_ot_120724/disanblr4.png)"
   ]
  },
  {
   "cell_type": "markdown",
   "metadata": {},
   "source": []
  }
 ],
 "metadata": {
  "language_info": {
   "name": "python"
  }
 },
 "nbformat": 4,
 "nbformat_minor": 2
}
